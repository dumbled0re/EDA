{
 "cells": [
  {
   "cell_type": "code",
   "execution_count": 1,
   "metadata": {},
   "outputs": [],
   "source": [
    "import numpy as np\n",
    "import pandas as pd\n",
    "import seaborn as sns\n",
    "import plotly.express as px"
   ]
  },
  {
   "cell_type": "code",
   "execution_count": 2,
   "metadata": {},
   "outputs": [],
   "source": [
    "file_path = '../dataset/citibike_trips_2017_sampled.csv'"
   ]
  },
  {
   "cell_type": "code",
   "execution_count": 3,
   "metadata": {},
   "outputs": [],
   "source": [
    "df = pd.read_csv(file_path, sep=',')"
   ]
  },
  {
   "cell_type": "code",
   "execution_count": 5,
   "metadata": {},
   "outputs": [
    {
     "data": {
      "text/html": [
       "<div>\n",
       "<style scoped>\n",
       "    .dataframe tbody tr th:only-of-type {\n",
       "        vertical-align: middle;\n",
       "    }\n",
       "\n",
       "    .dataframe tbody tr th {\n",
       "        vertical-align: top;\n",
       "    }\n",
       "\n",
       "    .dataframe thead th {\n",
       "        text-align: right;\n",
       "    }\n",
       "</style>\n",
       "<table border=\"1\" class=\"dataframe\">\n",
       "  <thead>\n",
       "    <tr style=\"text-align: right;\">\n",
       "      <th></th>\n",
       "      <th>Unnamed: 0</th>\n",
       "      <th>tripduration</th>\n",
       "      <th>starttime</th>\n",
       "      <th>stoptime</th>\n",
       "      <th>start_station_id</th>\n",
       "      <th>start_station_name</th>\n",
       "      <th>start_station_latitude</th>\n",
       "      <th>start_station_longitude</th>\n",
       "      <th>end_station_id</th>\n",
       "      <th>end_station_name</th>\n",
       "      <th>end_station_latitude</th>\n",
       "      <th>end_station_longitude</th>\n",
       "      <th>bikeid</th>\n",
       "      <th>usertype</th>\n",
       "      <th>birth_year</th>\n",
       "      <th>gender</th>\n",
       "      <th>customer_plan</th>\n",
       "      <th>dayofweek</th>\n",
       "      <th>age</th>\n",
       "    </tr>\n",
       "  </thead>\n",
       "  <tbody>\n",
       "    <tr>\n",
       "      <th>0</th>\n",
       "      <td>0</td>\n",
       "      <td>1877</td>\n",
       "      <td>2017/4/3 16:51</td>\n",
       "      <td>2017/4/3 17:22</td>\n",
       "      <td>498</td>\n",
       "      <td>Broadway &amp; W 32 St</td>\n",
       "      <td>40.748549</td>\n",
       "      <td>-73.988084</td>\n",
       "      <td>382</td>\n",
       "      <td>University Pl &amp; E 14 St</td>\n",
       "      <td>40.734927</td>\n",
       "      <td>-73.992005</td>\n",
       "      <td>27181</td>\n",
       "      <td>Customer</td>\n",
       "      <td>NaN</td>\n",
       "      <td>unknown</td>\n",
       "      <td>NaN</td>\n",
       "      <td>Mon</td>\n",
       "      <td>NaN</td>\n",
       "    </tr>\n",
       "    <tr>\n",
       "      <th>1</th>\n",
       "      <td>1</td>\n",
       "      <td>314</td>\n",
       "      <td>2017/4/11 8:26</td>\n",
       "      <td>2017/4/11 8:31</td>\n",
       "      <td>533</td>\n",
       "      <td>Broadway &amp; W 39 St</td>\n",
       "      <td>40.752996</td>\n",
       "      <td>-73.987216</td>\n",
       "      <td>402</td>\n",
       "      <td>Broadway &amp; E 22 St</td>\n",
       "      <td>40.740343</td>\n",
       "      <td>-73.989551</td>\n",
       "      <td>26081</td>\n",
       "      <td>Subscriber</td>\n",
       "      <td>1992.0</td>\n",
       "      <td>male</td>\n",
       "      <td>NaN</td>\n",
       "      <td>Tue</td>\n",
       "      <td>25.0</td>\n",
       "    </tr>\n",
       "    <tr>\n",
       "      <th>2</th>\n",
       "      <td>2</td>\n",
       "      <td>2686</td>\n",
       "      <td>2017/4/15 16:12</td>\n",
       "      <td>2017/4/15 16:56</td>\n",
       "      <td>430</td>\n",
       "      <td>York St &amp; Jay St</td>\n",
       "      <td>40.701485</td>\n",
       "      <td>-73.986569</td>\n",
       "      <td>3125</td>\n",
       "      <td>45 Rd &amp; 11 St</td>\n",
       "      <td>40.747086</td>\n",
       "      <td>-73.949772</td>\n",
       "      <td>28244</td>\n",
       "      <td>Subscriber</td>\n",
       "      <td>1994.0</td>\n",
       "      <td>male</td>\n",
       "      <td>NaN</td>\n",
       "      <td>Sat</td>\n",
       "      <td>25.0</td>\n",
       "    </tr>\n",
       "    <tr>\n",
       "      <th>3</th>\n",
       "      <td>3</td>\n",
       "      <td>1494</td>\n",
       "      <td>2017/7/10 15:28</td>\n",
       "      <td>2017/7/10 15:53</td>\n",
       "      <td>3474</td>\n",
       "      <td>6 Ave &amp; Spring St</td>\n",
       "      <td>40.725256</td>\n",
       "      <td>-74.004121</td>\n",
       "      <td>480</td>\n",
       "      <td>W 53 St &amp; 10 Ave</td>\n",
       "      <td>40.766697</td>\n",
       "      <td>-73.990617</td>\n",
       "      <td>28398</td>\n",
       "      <td>Subscriber</td>\n",
       "      <td>1971.0</td>\n",
       "      <td>male</td>\n",
       "      <td>NaN</td>\n",
       "      <td>Mon</td>\n",
       "      <td>45.0</td>\n",
       "    </tr>\n",
       "    <tr>\n",
       "      <th>4</th>\n",
       "      <td>4</td>\n",
       "      <td>606</td>\n",
       "      <td>2017/8/22 10:13</td>\n",
       "      <td>2017/8/22 10:23</td>\n",
       "      <td>432</td>\n",
       "      <td>E 7 St &amp; Avenue A</td>\n",
       "      <td>40.726218</td>\n",
       "      <td>-73.983799</td>\n",
       "      <td>438</td>\n",
       "      <td>St Marks Pl &amp; 1 Ave</td>\n",
       "      <td>40.727791</td>\n",
       "      <td>-73.985649</td>\n",
       "      <td>27444</td>\n",
       "      <td>Subscriber</td>\n",
       "      <td>1990.0</td>\n",
       "      <td>female</td>\n",
       "      <td>NaN</td>\n",
       "      <td>Tue</td>\n",
       "      <td>25.0</td>\n",
       "    </tr>\n",
       "  </tbody>\n",
       "</table>\n",
       "</div>"
      ],
      "text/plain": [
       "   Unnamed: 0  tripduration        starttime         stoptime  \\\n",
       "0           0          1877   2017/4/3 16:51   2017/4/3 17:22   \n",
       "1           1           314   2017/4/11 8:26   2017/4/11 8:31   \n",
       "2           2          2686  2017/4/15 16:12  2017/4/15 16:56   \n",
       "3           3          1494  2017/7/10 15:28  2017/7/10 15:53   \n",
       "4           4           606  2017/8/22 10:13  2017/8/22 10:23   \n",
       "\n",
       "   start_station_id  start_station_name  start_station_latitude  \\\n",
       "0               498  Broadway & W 32 St               40.748549   \n",
       "1               533  Broadway & W 39 St               40.752996   \n",
       "2               430    York St & Jay St               40.701485   \n",
       "3              3474   6 Ave & Spring St               40.725256   \n",
       "4               432   E 7 St & Avenue A               40.726218   \n",
       "\n",
       "   start_station_longitude  end_station_id         end_station_name  \\\n",
       "0               -73.988084             382  University Pl & E 14 St   \n",
       "1               -73.987216             402       Broadway & E 22 St   \n",
       "2               -73.986569            3125            45 Rd & 11 St   \n",
       "3               -74.004121             480         W 53 St & 10 Ave   \n",
       "4               -73.983799             438      St Marks Pl & 1 Ave   \n",
       "\n",
       "   end_station_latitude  end_station_longitude  bikeid    usertype  \\\n",
       "0             40.734927             -73.992005   27181    Customer   \n",
       "1             40.740343             -73.989551   26081  Subscriber   \n",
       "2             40.747086             -73.949772   28244  Subscriber   \n",
       "3             40.766697             -73.990617   28398  Subscriber   \n",
       "4             40.727791             -73.985649   27444  Subscriber   \n",
       "\n",
       "   birth_year   gender  customer_plan dayofweek   age  \n",
       "0         NaN  unknown            NaN       Mon   NaN  \n",
       "1      1992.0     male            NaN       Tue  25.0  \n",
       "2      1994.0     male            NaN       Sat  25.0  \n",
       "3      1971.0     male            NaN       Mon  45.0  \n",
       "4      1990.0   female            NaN       Tue  25.0  "
      ]
     },
     "execution_count": 5,
     "metadata": {},
     "output_type": "execute_result"
    }
   ],
   "source": [
    "'''\n",
    "このデータはサービスのログデータ\n",
    "tripduration: どのくらい使用したか(秒)\n",
    "starttime: いつ開始したか\n",
    "stoptime: いつ終了したか\n",
    "start_station_id: 開始したステーションのid\n",
    "start_station_name: ステーション名\n",
    "start_station_latitude: 緯度\n",
    "start_station_longitude: 経度\n",
    "'''\n",
    "df.head()"
   ]
  },
  {
   "cell_type": "code",
   "execution_count": 6,
   "metadata": {},
   "outputs": [
    {
     "name": "stdout",
     "output_type": "stream",
     "text": [
      "<class 'pandas.core.frame.DataFrame'>\n",
      "RangeIndex: 141562 entries, 0 to 141561\n",
      "Data columns (total 19 columns):\n",
      " #   Column                   Non-Null Count   Dtype  \n",
      "---  ------                   --------------   -----  \n",
      " 0   Unnamed: 0               141562 non-null  int64  \n",
      " 1   tripduration             141562 non-null  int64  \n",
      " 2   starttime                141562 non-null  object \n",
      " 3   stoptime                 141562 non-null  object \n",
      " 4   start_station_id         141562 non-null  int64  \n",
      " 5   start_station_name       141562 non-null  object \n",
      " 6   start_station_latitude   141562 non-null  float64\n",
      " 7   start_station_longitude  141562 non-null  float64\n",
      " 8   end_station_id           141562 non-null  int64  \n",
      " 9   end_station_name         141562 non-null  object \n",
      " 10  end_station_latitude     141562 non-null  float64\n",
      " 11  end_station_longitude    141562 non-null  float64\n",
      " 12  bikeid                   141562 non-null  int64  \n",
      " 13  usertype                 141562 non-null  object \n",
      " 14  birth_year               126281 non-null  float64\n",
      " 15  gender                   141562 non-null  object \n",
      " 16  customer_plan            0 non-null       float64\n",
      " 17  dayofweek                141562 non-null  object \n",
      " 18  age                      126281 non-null  float64\n",
      "dtypes: float64(7), int64(5), object(7)\n",
      "memory usage: 20.5+ MB\n"
     ]
    }
   ],
   "source": [
    "df.info()"
   ]
  },
  {
   "cell_type": "code",
   "execution_count": 7,
   "metadata": {},
   "outputs": [],
   "source": [
    "# starttimeとstoptimeをdate型に変換\n",
    "df['starttime'] = pd.to_datetime(df['starttime'])\n",
    "df['stoptime'] = pd.to_datetime(df['stoptime'])"
   ]
  },
  {
   "cell_type": "code",
   "execution_count": 8,
   "metadata": {},
   "outputs": [
    {
     "name": "stdout",
     "output_type": "stream",
     "text": [
      "<class 'pandas.core.frame.DataFrame'>\n",
      "RangeIndex: 141562 entries, 0 to 141561\n",
      "Data columns (total 19 columns):\n",
      " #   Column                   Non-Null Count   Dtype         \n",
      "---  ------                   --------------   -----         \n",
      " 0   Unnamed: 0               141562 non-null  int64         \n",
      " 1   tripduration             141562 non-null  int64         \n",
      " 2   starttime                141562 non-null  datetime64[ns]\n",
      " 3   stoptime                 141562 non-null  datetime64[ns]\n",
      " 4   start_station_id         141562 non-null  int64         \n",
      " 5   start_station_name       141562 non-null  object        \n",
      " 6   start_station_latitude   141562 non-null  float64       \n",
      " 7   start_station_longitude  141562 non-null  float64       \n",
      " 8   end_station_id           141562 non-null  int64         \n",
      " 9   end_station_name         141562 non-null  object        \n",
      " 10  end_station_latitude     141562 non-null  float64       \n",
      " 11  end_station_longitude    141562 non-null  float64       \n",
      " 12  bikeid                   141562 non-null  int64         \n",
      " 13  usertype                 141562 non-null  object        \n",
      " 14  birth_year               126281 non-null  float64       \n",
      " 15  gender                   141562 non-null  object        \n",
      " 16  customer_plan            0 non-null       float64       \n",
      " 17  dayofweek                141562 non-null  object        \n",
      " 18  age                      126281 non-null  float64       \n",
      "dtypes: datetime64[ns](2), float64(7), int64(5), object(5)\n",
      "memory usage: 20.5+ MB\n"
     ]
    }
   ],
   "source": [
    "df.info()"
   ]
  },
  {
   "cell_type": "code",
   "execution_count": 9,
   "metadata": {},
   "outputs": [],
   "source": [
    "# 後で月などで集計するため\n",
    "df['num_trips'] = 1"
   ]
  },
  {
   "cell_type": "code",
   "execution_count": 10,
   "metadata": {},
   "outputs": [],
   "source": [
    "# tripdurationを秒単位から分単位に変換\n",
    "df['tripduration_min'] = df['tripduration'] / 60.0"
   ]
  },
  {
   "cell_type": "code",
   "execution_count": 11,
   "metadata": {},
   "outputs": [],
   "source": [
    "df['month'] = df['starttime'].dt.month\n",
    "df['day'] = df['starttime'].dt.day\n",
    "df['date'] = df['starttime'].dt.date\n",
    "df['hour'] = df['starttime'].dt.hour\n",
    "# カテゴリカルなdayofweekを数値化(Mon -> 0, Tue -> 1)\n",
    "df['day_of_week'] = df['starttime'].dt.dayofweek"
   ]
  },
  {
   "cell_type": "code",
   "execution_count": 12,
   "metadata": {},
   "outputs": [
    {
     "data": {
      "text/html": [
       "<div>\n",
       "<style scoped>\n",
       "    .dataframe tbody tr th:only-of-type {\n",
       "        vertical-align: middle;\n",
       "    }\n",
       "\n",
       "    .dataframe tbody tr th {\n",
       "        vertical-align: top;\n",
       "    }\n",
       "\n",
       "    .dataframe thead th {\n",
       "        text-align: right;\n",
       "    }\n",
       "</style>\n",
       "<table border=\"1\" class=\"dataframe\">\n",
       "  <thead>\n",
       "    <tr style=\"text-align: right;\">\n",
       "      <th></th>\n",
       "      <th>Unnamed: 0</th>\n",
       "      <th>tripduration</th>\n",
       "      <th>starttime</th>\n",
       "      <th>stoptime</th>\n",
       "      <th>start_station_id</th>\n",
       "      <th>start_station_name</th>\n",
       "      <th>start_station_latitude</th>\n",
       "      <th>start_station_longitude</th>\n",
       "      <th>end_station_id</th>\n",
       "      <th>end_station_name</th>\n",
       "      <th>...</th>\n",
       "      <th>customer_plan</th>\n",
       "      <th>dayofweek</th>\n",
       "      <th>age</th>\n",
       "      <th>num_trips</th>\n",
       "      <th>tripduration_min</th>\n",
       "      <th>month</th>\n",
       "      <th>day</th>\n",
       "      <th>date</th>\n",
       "      <th>hour</th>\n",
       "      <th>day_of_week</th>\n",
       "    </tr>\n",
       "  </thead>\n",
       "  <tbody>\n",
       "    <tr>\n",
       "      <th>0</th>\n",
       "      <td>0</td>\n",
       "      <td>1877</td>\n",
       "      <td>2017-04-03 16:51:00</td>\n",
       "      <td>2017-04-03 17:22:00</td>\n",
       "      <td>498</td>\n",
       "      <td>Broadway &amp; W 32 St</td>\n",
       "      <td>40.748549</td>\n",
       "      <td>-73.988084</td>\n",
       "      <td>382</td>\n",
       "      <td>University Pl &amp; E 14 St</td>\n",
       "      <td>...</td>\n",
       "      <td>NaN</td>\n",
       "      <td>Mon</td>\n",
       "      <td>NaN</td>\n",
       "      <td>1</td>\n",
       "      <td>31.283333</td>\n",
       "      <td>4</td>\n",
       "      <td>3</td>\n",
       "      <td>2017-04-03</td>\n",
       "      <td>16</td>\n",
       "      <td>0</td>\n",
       "    </tr>\n",
       "    <tr>\n",
       "      <th>1</th>\n",
       "      <td>1</td>\n",
       "      <td>314</td>\n",
       "      <td>2017-04-11 08:26:00</td>\n",
       "      <td>2017-04-11 08:31:00</td>\n",
       "      <td>533</td>\n",
       "      <td>Broadway &amp; W 39 St</td>\n",
       "      <td>40.752996</td>\n",
       "      <td>-73.987216</td>\n",
       "      <td>402</td>\n",
       "      <td>Broadway &amp; E 22 St</td>\n",
       "      <td>...</td>\n",
       "      <td>NaN</td>\n",
       "      <td>Tue</td>\n",
       "      <td>25.0</td>\n",
       "      <td>1</td>\n",
       "      <td>5.233333</td>\n",
       "      <td>4</td>\n",
       "      <td>11</td>\n",
       "      <td>2017-04-11</td>\n",
       "      <td>8</td>\n",
       "      <td>1</td>\n",
       "    </tr>\n",
       "    <tr>\n",
       "      <th>2</th>\n",
       "      <td>2</td>\n",
       "      <td>2686</td>\n",
       "      <td>2017-04-15 16:12:00</td>\n",
       "      <td>2017-04-15 16:56:00</td>\n",
       "      <td>430</td>\n",
       "      <td>York St &amp; Jay St</td>\n",
       "      <td>40.701485</td>\n",
       "      <td>-73.986569</td>\n",
       "      <td>3125</td>\n",
       "      <td>45 Rd &amp; 11 St</td>\n",
       "      <td>...</td>\n",
       "      <td>NaN</td>\n",
       "      <td>Sat</td>\n",
       "      <td>25.0</td>\n",
       "      <td>1</td>\n",
       "      <td>44.766667</td>\n",
       "      <td>4</td>\n",
       "      <td>15</td>\n",
       "      <td>2017-04-15</td>\n",
       "      <td>16</td>\n",
       "      <td>5</td>\n",
       "    </tr>\n",
       "    <tr>\n",
       "      <th>3</th>\n",
       "      <td>3</td>\n",
       "      <td>1494</td>\n",
       "      <td>2017-07-10 15:28:00</td>\n",
       "      <td>2017-07-10 15:53:00</td>\n",
       "      <td>3474</td>\n",
       "      <td>6 Ave &amp; Spring St</td>\n",
       "      <td>40.725256</td>\n",
       "      <td>-74.004121</td>\n",
       "      <td>480</td>\n",
       "      <td>W 53 St &amp; 10 Ave</td>\n",
       "      <td>...</td>\n",
       "      <td>NaN</td>\n",
       "      <td>Mon</td>\n",
       "      <td>45.0</td>\n",
       "      <td>1</td>\n",
       "      <td>24.900000</td>\n",
       "      <td>7</td>\n",
       "      <td>10</td>\n",
       "      <td>2017-07-10</td>\n",
       "      <td>15</td>\n",
       "      <td>0</td>\n",
       "    </tr>\n",
       "    <tr>\n",
       "      <th>4</th>\n",
       "      <td>4</td>\n",
       "      <td>606</td>\n",
       "      <td>2017-08-22 10:13:00</td>\n",
       "      <td>2017-08-22 10:23:00</td>\n",
       "      <td>432</td>\n",
       "      <td>E 7 St &amp; Avenue A</td>\n",
       "      <td>40.726218</td>\n",
       "      <td>-73.983799</td>\n",
       "      <td>438</td>\n",
       "      <td>St Marks Pl &amp; 1 Ave</td>\n",
       "      <td>...</td>\n",
       "      <td>NaN</td>\n",
       "      <td>Tue</td>\n",
       "      <td>25.0</td>\n",
       "      <td>1</td>\n",
       "      <td>10.100000</td>\n",
       "      <td>8</td>\n",
       "      <td>22</td>\n",
       "      <td>2017-08-22</td>\n",
       "      <td>10</td>\n",
       "      <td>1</td>\n",
       "    </tr>\n",
       "    <tr>\n",
       "      <th>...</th>\n",
       "      <td>...</td>\n",
       "      <td>...</td>\n",
       "      <td>...</td>\n",
       "      <td>...</td>\n",
       "      <td>...</td>\n",
       "      <td>...</td>\n",
       "      <td>...</td>\n",
       "      <td>...</td>\n",
       "      <td>...</td>\n",
       "      <td>...</td>\n",
       "      <td>...</td>\n",
       "      <td>...</td>\n",
       "      <td>...</td>\n",
       "      <td>...</td>\n",
       "      <td>...</td>\n",
       "      <td>...</td>\n",
       "      <td>...</td>\n",
       "      <td>...</td>\n",
       "      <td>...</td>\n",
       "      <td>...</td>\n",
       "      <td>...</td>\n",
       "    </tr>\n",
       "    <tr>\n",
       "      <th>141557</th>\n",
       "      <td>141557</td>\n",
       "      <td>1488</td>\n",
       "      <td>2017-07-17 21:38:00</td>\n",
       "      <td>2017-07-17 22:03:00</td>\n",
       "      <td>3302</td>\n",
       "      <td>Columbus Ave &amp; W 103 St</td>\n",
       "      <td>40.796935</td>\n",
       "      <td>-73.964341</td>\n",
       "      <td>3302</td>\n",
       "      <td>Columbus Ave &amp; W 103 St</td>\n",
       "      <td>...</td>\n",
       "      <td>NaN</td>\n",
       "      <td>Mon</td>\n",
       "      <td>25.0</td>\n",
       "      <td>1</td>\n",
       "      <td>24.800000</td>\n",
       "      <td>7</td>\n",
       "      <td>17</td>\n",
       "      <td>2017-07-17</td>\n",
       "      <td>21</td>\n",
       "      <td>0</td>\n",
       "    </tr>\n",
       "    <tr>\n",
       "      <th>141558</th>\n",
       "      <td>141558</td>\n",
       "      <td>217</td>\n",
       "      <td>2017-05-18 16:35:00</td>\n",
       "      <td>2017-05-18 16:39:00</td>\n",
       "      <td>311</td>\n",
       "      <td>Norfolk St &amp; Broome St</td>\n",
       "      <td>40.717227</td>\n",
       "      <td>-73.988021</td>\n",
       "      <td>502</td>\n",
       "      <td>Henry St &amp; Grand St</td>\n",
       "      <td>...</td>\n",
       "      <td>NaN</td>\n",
       "      <td>Thr</td>\n",
       "      <td>55.0</td>\n",
       "      <td>1</td>\n",
       "      <td>3.616667</td>\n",
       "      <td>5</td>\n",
       "      <td>18</td>\n",
       "      <td>2017-05-18</td>\n",
       "      <td>16</td>\n",
       "      <td>3</td>\n",
       "    </tr>\n",
       "    <tr>\n",
       "      <th>141559</th>\n",
       "      <td>141559</td>\n",
       "      <td>1138</td>\n",
       "      <td>2017-07-06 06:47:00</td>\n",
       "      <td>2017-07-06 07:06:00</td>\n",
       "      <td>3236</td>\n",
       "      <td>W 42 St &amp; Dyer Ave</td>\n",
       "      <td>40.758985</td>\n",
       "      <td>-73.993800</td>\n",
       "      <td>444</td>\n",
       "      <td>Broadway &amp; W 24 St</td>\n",
       "      <td>...</td>\n",
       "      <td>NaN</td>\n",
       "      <td>Thr</td>\n",
       "      <td>40.0</td>\n",
       "      <td>1</td>\n",
       "      <td>18.966667</td>\n",
       "      <td>7</td>\n",
       "      <td>6</td>\n",
       "      <td>2017-07-06</td>\n",
       "      <td>6</td>\n",
       "      <td>3</td>\n",
       "    </tr>\n",
       "    <tr>\n",
       "      <th>141560</th>\n",
       "      <td>141560</td>\n",
       "      <td>955</td>\n",
       "      <td>2017-05-17 08:13:00</td>\n",
       "      <td>2017-05-17 08:29:00</td>\n",
       "      <td>284</td>\n",
       "      <td>Greenwich Ave &amp; 8 Ave</td>\n",
       "      <td>40.739017</td>\n",
       "      <td>-74.002638</td>\n",
       "      <td>327</td>\n",
       "      <td>Vesey Pl &amp; River Terrace</td>\n",
       "      <td>...</td>\n",
       "      <td>NaN</td>\n",
       "      <td>Wed</td>\n",
       "      <td>60.0</td>\n",
       "      <td>1</td>\n",
       "      <td>15.916667</td>\n",
       "      <td>5</td>\n",
       "      <td>17</td>\n",
       "      <td>2017-05-17</td>\n",
       "      <td>8</td>\n",
       "      <td>2</td>\n",
       "    </tr>\n",
       "    <tr>\n",
       "      <th>141561</th>\n",
       "      <td>141561</td>\n",
       "      <td>1434</td>\n",
       "      <td>2017-07-09 17:19:00</td>\n",
       "      <td>2017-07-09 17:42:00</td>\n",
       "      <td>3282</td>\n",
       "      <td>5 Ave &amp; E 88 St</td>\n",
       "      <td>40.783070</td>\n",
       "      <td>-73.959390</td>\n",
       "      <td>3295</td>\n",
       "      <td>Central Park W &amp; W 96 St</td>\n",
       "      <td>...</td>\n",
       "      <td>NaN</td>\n",
       "      <td>Sun</td>\n",
       "      <td>NaN</td>\n",
       "      <td>1</td>\n",
       "      <td>23.900000</td>\n",
       "      <td>7</td>\n",
       "      <td>9</td>\n",
       "      <td>2017-07-09</td>\n",
       "      <td>17</td>\n",
       "      <td>6</td>\n",
       "    </tr>\n",
       "  </tbody>\n",
       "</table>\n",
       "<p>141562 rows × 26 columns</p>\n",
       "</div>"
      ],
      "text/plain": [
       "        Unnamed: 0  tripduration           starttime            stoptime  \\\n",
       "0                0          1877 2017-04-03 16:51:00 2017-04-03 17:22:00   \n",
       "1                1           314 2017-04-11 08:26:00 2017-04-11 08:31:00   \n",
       "2                2          2686 2017-04-15 16:12:00 2017-04-15 16:56:00   \n",
       "3                3          1494 2017-07-10 15:28:00 2017-07-10 15:53:00   \n",
       "4                4           606 2017-08-22 10:13:00 2017-08-22 10:23:00   \n",
       "...            ...           ...                 ...                 ...   \n",
       "141557      141557          1488 2017-07-17 21:38:00 2017-07-17 22:03:00   \n",
       "141558      141558           217 2017-05-18 16:35:00 2017-05-18 16:39:00   \n",
       "141559      141559          1138 2017-07-06 06:47:00 2017-07-06 07:06:00   \n",
       "141560      141560           955 2017-05-17 08:13:00 2017-05-17 08:29:00   \n",
       "141561      141561          1434 2017-07-09 17:19:00 2017-07-09 17:42:00   \n",
       "\n",
       "        start_station_id       start_station_name  start_station_latitude  \\\n",
       "0                    498       Broadway & W 32 St               40.748549   \n",
       "1                    533       Broadway & W 39 St               40.752996   \n",
       "2                    430         York St & Jay St               40.701485   \n",
       "3                   3474        6 Ave & Spring St               40.725256   \n",
       "4                    432        E 7 St & Avenue A               40.726218   \n",
       "...                  ...                      ...                     ...   \n",
       "141557              3302  Columbus Ave & W 103 St               40.796935   \n",
       "141558               311   Norfolk St & Broome St               40.717227   \n",
       "141559              3236       W 42 St & Dyer Ave               40.758985   \n",
       "141560               284    Greenwich Ave & 8 Ave               40.739017   \n",
       "141561              3282          5 Ave & E 88 St               40.783070   \n",
       "\n",
       "        start_station_longitude  end_station_id          end_station_name  \\\n",
       "0                    -73.988084             382   University Pl & E 14 St   \n",
       "1                    -73.987216             402        Broadway & E 22 St   \n",
       "2                    -73.986569            3125             45 Rd & 11 St   \n",
       "3                    -74.004121             480          W 53 St & 10 Ave   \n",
       "4                    -73.983799             438       St Marks Pl & 1 Ave   \n",
       "...                         ...             ...                       ...   \n",
       "141557               -73.964341            3302   Columbus Ave & W 103 St   \n",
       "141558               -73.988021             502       Henry St & Grand St   \n",
       "141559               -73.993800             444        Broadway & W 24 St   \n",
       "141560               -74.002638             327  Vesey Pl & River Terrace   \n",
       "141561               -73.959390            3295  Central Park W & W 96 St   \n",
       "\n",
       "        ...  customer_plan  dayofweek   age num_trips  tripduration_min month  \\\n",
       "0       ...            NaN        Mon   NaN         1         31.283333     4   \n",
       "1       ...            NaN        Tue  25.0         1          5.233333     4   \n",
       "2       ...            NaN        Sat  25.0         1         44.766667     4   \n",
       "3       ...            NaN        Mon  45.0         1         24.900000     7   \n",
       "4       ...            NaN        Tue  25.0         1         10.100000     8   \n",
       "...     ...            ...        ...   ...       ...               ...   ...   \n",
       "141557  ...            NaN        Mon  25.0         1         24.800000     7   \n",
       "141558  ...            NaN        Thr  55.0         1          3.616667     5   \n",
       "141559  ...            NaN        Thr  40.0         1         18.966667     7   \n",
       "141560  ...            NaN        Wed  60.0         1         15.916667     5   \n",
       "141561  ...            NaN        Sun   NaN         1         23.900000     7   \n",
       "\n",
       "        day        date  hour  day_of_week  \n",
       "0         3  2017-04-03    16            0  \n",
       "1        11  2017-04-11     8            1  \n",
       "2        15  2017-04-15    16            5  \n",
       "3        10  2017-07-10    15            0  \n",
       "4        22  2017-08-22    10            1  \n",
       "...     ...         ...   ...          ...  \n",
       "141557   17  2017-07-17    21            0  \n",
       "141558   18  2017-05-18    16            3  \n",
       "141559    6  2017-07-06     6            3  \n",
       "141560   17  2017-05-17     8            2  \n",
       "141561    9  2017-07-09    17            6  \n",
       "\n",
       "[141562 rows x 26 columns]"
      ]
     },
     "execution_count": 12,
     "metadata": {},
     "output_type": "execute_result"
    }
   ],
   "source": [
    "df"
   ]
  },
  {
   "attachments": {},
   "cell_type": "markdown",
   "metadata": {},
   "source": [
    "### 月別の利用者数"
   ]
  },
  {
   "cell_type": "code",
   "execution_count": 19,
   "metadata": {},
   "outputs": [],
   "source": [
    "num_trips_df = df.groupby('month')['num_trips'].count().reset_index()"
   ]
  },
  {
   "cell_type": "code",
   "execution_count": 20,
   "metadata": {},
   "outputs": [
    {
     "data": {
      "text/html": [
       "<div>\n",
       "<style scoped>\n",
       "    .dataframe tbody tr th:only-of-type {\n",
       "        vertical-align: middle;\n",
       "    }\n",
       "\n",
       "    .dataframe tbody tr th {\n",
       "        vertical-align: top;\n",
       "    }\n",
       "\n",
       "    .dataframe thead th {\n",
       "        text-align: right;\n",
       "    }\n",
       "</style>\n",
       "<table border=\"1\" class=\"dataframe\">\n",
       "  <thead>\n",
       "    <tr style=\"text-align: right;\">\n",
       "      <th></th>\n",
       "      <th>month</th>\n",
       "      <th>num_trips</th>\n",
       "    </tr>\n",
       "  </thead>\n",
       "  <tbody>\n",
       "    <tr>\n",
       "      <th>0</th>\n",
       "      <td>4</td>\n",
       "      <td>13264</td>\n",
       "    </tr>\n",
       "    <tr>\n",
       "      <th>1</th>\n",
       "      <td>5</td>\n",
       "      <td>15276</td>\n",
       "    </tr>\n",
       "    <tr>\n",
       "      <th>2</th>\n",
       "      <td>6</td>\n",
       "      <td>17406</td>\n",
       "    </tr>\n",
       "    <tr>\n",
       "      <th>3</th>\n",
       "      <td>7</td>\n",
       "      <td>17528</td>\n",
       "    </tr>\n",
       "    <tr>\n",
       "      <th>4</th>\n",
       "      <td>8</td>\n",
       "      <td>18073</td>\n",
       "    </tr>\n",
       "    <tr>\n",
       "      <th>5</th>\n",
       "      <td>9</td>\n",
       "      <td>18762</td>\n",
       "    </tr>\n",
       "    <tr>\n",
       "      <th>6</th>\n",
       "      <td>10</td>\n",
       "      <td>18881</td>\n",
       "    </tr>\n",
       "    <tr>\n",
       "      <th>7</th>\n",
       "      <td>11</td>\n",
       "      <td>13350</td>\n",
       "    </tr>\n",
       "    <tr>\n",
       "      <th>8</th>\n",
       "      <td>12</td>\n",
       "      <td>9022</td>\n",
       "    </tr>\n",
       "  </tbody>\n",
       "</table>\n",
       "</div>"
      ],
      "text/plain": [
       "   month  num_trips\n",
       "0      4      13264\n",
       "1      5      15276\n",
       "2      6      17406\n",
       "3      7      17528\n",
       "4      8      18073\n",
       "5      9      18762\n",
       "6     10      18881\n",
       "7     11      13350\n",
       "8     12       9022"
      ]
     },
     "execution_count": 20,
     "metadata": {},
     "output_type": "execute_result"
    }
   ],
   "source": [
    "num_trips_df"
   ]
  },
  {
   "cell_type": "code",
   "execution_count": 21,
   "metadata": {},
   "outputs": [
    {
     "data": {
      "application/vnd.plotly.v1+json": {
       "config": {
        "plotlyServerURL": "https://plot.ly"
       },
       "data": [
        {
         "hovertemplate": "month=%{x}<br>num_trips=%{y}<extra></extra>",
         "legendgroup": "",
         "line": {
          "color": "#636efa",
          "dash": "solid"
         },
         "marker": {
          "symbol": "circle"
         },
         "mode": "lines+markers",
         "name": "",
         "orientation": "v",
         "showlegend": false,
         "type": "scatter",
         "x": [
          4,
          5,
          6,
          7,
          8,
          9,
          10,
          11,
          12
         ],
         "xaxis": "x",
         "y": [
          13264,
          15276,
          17406,
          17528,
          18073,
          18762,
          18881,
          13350,
          9022
         ],
         "yaxis": "y"
        }
       ],
       "layout": {
        "height": 600,
        "legend": {
         "tracegroupgap": 0
        },
        "margin": {
         "t": 60
        },
        "template": {
         "data": {
          "bar": [
           {
            "error_x": {
             "color": "#2a3f5f"
            },
            "error_y": {
             "color": "#2a3f5f"
            },
            "marker": {
             "line": {
              "color": "#E5ECF6",
              "width": 0.5
             },
             "pattern": {
              "fillmode": "overlay",
              "size": 10,
              "solidity": 0.2
             }
            },
            "type": "bar"
           }
          ],
          "barpolar": [
           {
            "marker": {
             "line": {
              "color": "#E5ECF6",
              "width": 0.5
             },
             "pattern": {
              "fillmode": "overlay",
              "size": 10,
              "solidity": 0.2
             }
            },
            "type": "barpolar"
           }
          ],
          "carpet": [
           {
            "aaxis": {
             "endlinecolor": "#2a3f5f",
             "gridcolor": "white",
             "linecolor": "white",
             "minorgridcolor": "white",
             "startlinecolor": "#2a3f5f"
            },
            "baxis": {
             "endlinecolor": "#2a3f5f",
             "gridcolor": "white",
             "linecolor": "white",
             "minorgridcolor": "white",
             "startlinecolor": "#2a3f5f"
            },
            "type": "carpet"
           }
          ],
          "choropleth": [
           {
            "colorbar": {
             "outlinewidth": 0,
             "ticks": ""
            },
            "type": "choropleth"
           }
          ],
          "contour": [
           {
            "colorbar": {
             "outlinewidth": 0,
             "ticks": ""
            },
            "colorscale": [
             [
              0,
              "#0d0887"
             ],
             [
              0.1111111111111111,
              "#46039f"
             ],
             [
              0.2222222222222222,
              "#7201a8"
             ],
             [
              0.3333333333333333,
              "#9c179e"
             ],
             [
              0.4444444444444444,
              "#bd3786"
             ],
             [
              0.5555555555555556,
              "#d8576b"
             ],
             [
              0.6666666666666666,
              "#ed7953"
             ],
             [
              0.7777777777777778,
              "#fb9f3a"
             ],
             [
              0.8888888888888888,
              "#fdca26"
             ],
             [
              1,
              "#f0f921"
             ]
            ],
            "type": "contour"
           }
          ],
          "contourcarpet": [
           {
            "colorbar": {
             "outlinewidth": 0,
             "ticks": ""
            },
            "type": "contourcarpet"
           }
          ],
          "heatmap": [
           {
            "colorbar": {
             "outlinewidth": 0,
             "ticks": ""
            },
            "colorscale": [
             [
              0,
              "#0d0887"
             ],
             [
              0.1111111111111111,
              "#46039f"
             ],
             [
              0.2222222222222222,
              "#7201a8"
             ],
             [
              0.3333333333333333,
              "#9c179e"
             ],
             [
              0.4444444444444444,
              "#bd3786"
             ],
             [
              0.5555555555555556,
              "#d8576b"
             ],
             [
              0.6666666666666666,
              "#ed7953"
             ],
             [
              0.7777777777777778,
              "#fb9f3a"
             ],
             [
              0.8888888888888888,
              "#fdca26"
             ],
             [
              1,
              "#f0f921"
             ]
            ],
            "type": "heatmap"
           }
          ],
          "heatmapgl": [
           {
            "colorbar": {
             "outlinewidth": 0,
             "ticks": ""
            },
            "colorscale": [
             [
              0,
              "#0d0887"
             ],
             [
              0.1111111111111111,
              "#46039f"
             ],
             [
              0.2222222222222222,
              "#7201a8"
             ],
             [
              0.3333333333333333,
              "#9c179e"
             ],
             [
              0.4444444444444444,
              "#bd3786"
             ],
             [
              0.5555555555555556,
              "#d8576b"
             ],
             [
              0.6666666666666666,
              "#ed7953"
             ],
             [
              0.7777777777777778,
              "#fb9f3a"
             ],
             [
              0.8888888888888888,
              "#fdca26"
             ],
             [
              1,
              "#f0f921"
             ]
            ],
            "type": "heatmapgl"
           }
          ],
          "histogram": [
           {
            "marker": {
             "pattern": {
              "fillmode": "overlay",
              "size": 10,
              "solidity": 0.2
             }
            },
            "type": "histogram"
           }
          ],
          "histogram2d": [
           {
            "colorbar": {
             "outlinewidth": 0,
             "ticks": ""
            },
            "colorscale": [
             [
              0,
              "#0d0887"
             ],
             [
              0.1111111111111111,
              "#46039f"
             ],
             [
              0.2222222222222222,
              "#7201a8"
             ],
             [
              0.3333333333333333,
              "#9c179e"
             ],
             [
              0.4444444444444444,
              "#bd3786"
             ],
             [
              0.5555555555555556,
              "#d8576b"
             ],
             [
              0.6666666666666666,
              "#ed7953"
             ],
             [
              0.7777777777777778,
              "#fb9f3a"
             ],
             [
              0.8888888888888888,
              "#fdca26"
             ],
             [
              1,
              "#f0f921"
             ]
            ],
            "type": "histogram2d"
           }
          ],
          "histogram2dcontour": [
           {
            "colorbar": {
             "outlinewidth": 0,
             "ticks": ""
            },
            "colorscale": [
             [
              0,
              "#0d0887"
             ],
             [
              0.1111111111111111,
              "#46039f"
             ],
             [
              0.2222222222222222,
              "#7201a8"
             ],
             [
              0.3333333333333333,
              "#9c179e"
             ],
             [
              0.4444444444444444,
              "#bd3786"
             ],
             [
              0.5555555555555556,
              "#d8576b"
             ],
             [
              0.6666666666666666,
              "#ed7953"
             ],
             [
              0.7777777777777778,
              "#fb9f3a"
             ],
             [
              0.8888888888888888,
              "#fdca26"
             ],
             [
              1,
              "#f0f921"
             ]
            ],
            "type": "histogram2dcontour"
           }
          ],
          "mesh3d": [
           {
            "colorbar": {
             "outlinewidth": 0,
             "ticks": ""
            },
            "type": "mesh3d"
           }
          ],
          "parcoords": [
           {
            "line": {
             "colorbar": {
              "outlinewidth": 0,
              "ticks": ""
             }
            },
            "type": "parcoords"
           }
          ],
          "pie": [
           {
            "automargin": true,
            "type": "pie"
           }
          ],
          "scatter": [
           {
            "fillpattern": {
             "fillmode": "overlay",
             "size": 10,
             "solidity": 0.2
            },
            "type": "scatter"
           }
          ],
          "scatter3d": [
           {
            "line": {
             "colorbar": {
              "outlinewidth": 0,
              "ticks": ""
             }
            },
            "marker": {
             "colorbar": {
              "outlinewidth": 0,
              "ticks": ""
             }
            },
            "type": "scatter3d"
           }
          ],
          "scattercarpet": [
           {
            "marker": {
             "colorbar": {
              "outlinewidth": 0,
              "ticks": ""
             }
            },
            "type": "scattercarpet"
           }
          ],
          "scattergeo": [
           {
            "marker": {
             "colorbar": {
              "outlinewidth": 0,
              "ticks": ""
             }
            },
            "type": "scattergeo"
           }
          ],
          "scattergl": [
           {
            "marker": {
             "colorbar": {
              "outlinewidth": 0,
              "ticks": ""
             }
            },
            "type": "scattergl"
           }
          ],
          "scattermapbox": [
           {
            "marker": {
             "colorbar": {
              "outlinewidth": 0,
              "ticks": ""
             }
            },
            "type": "scattermapbox"
           }
          ],
          "scatterpolar": [
           {
            "marker": {
             "colorbar": {
              "outlinewidth": 0,
              "ticks": ""
             }
            },
            "type": "scatterpolar"
           }
          ],
          "scatterpolargl": [
           {
            "marker": {
             "colorbar": {
              "outlinewidth": 0,
              "ticks": ""
             }
            },
            "type": "scatterpolargl"
           }
          ],
          "scatterternary": [
           {
            "marker": {
             "colorbar": {
              "outlinewidth": 0,
              "ticks": ""
             }
            },
            "type": "scatterternary"
           }
          ],
          "surface": [
           {
            "colorbar": {
             "outlinewidth": 0,
             "ticks": ""
            },
            "colorscale": [
             [
              0,
              "#0d0887"
             ],
             [
              0.1111111111111111,
              "#46039f"
             ],
             [
              0.2222222222222222,
              "#7201a8"
             ],
             [
              0.3333333333333333,
              "#9c179e"
             ],
             [
              0.4444444444444444,
              "#bd3786"
             ],
             [
              0.5555555555555556,
              "#d8576b"
             ],
             [
              0.6666666666666666,
              "#ed7953"
             ],
             [
              0.7777777777777778,
              "#fb9f3a"
             ],
             [
              0.8888888888888888,
              "#fdca26"
             ],
             [
              1,
              "#f0f921"
             ]
            ],
            "type": "surface"
           }
          ],
          "table": [
           {
            "cells": {
             "fill": {
              "color": "#EBF0F8"
             },
             "line": {
              "color": "white"
             }
            },
            "header": {
             "fill": {
              "color": "#C8D4E3"
             },
             "line": {
              "color": "white"
             }
            },
            "type": "table"
           }
          ]
         },
         "layout": {
          "annotationdefaults": {
           "arrowcolor": "#2a3f5f",
           "arrowhead": 0,
           "arrowwidth": 1
          },
          "autotypenumbers": "strict",
          "coloraxis": {
           "colorbar": {
            "outlinewidth": 0,
            "ticks": ""
           }
          },
          "colorscale": {
           "diverging": [
            [
             0,
             "#8e0152"
            ],
            [
             0.1,
             "#c51b7d"
            ],
            [
             0.2,
             "#de77ae"
            ],
            [
             0.3,
             "#f1b6da"
            ],
            [
             0.4,
             "#fde0ef"
            ],
            [
             0.5,
             "#f7f7f7"
            ],
            [
             0.6,
             "#e6f5d0"
            ],
            [
             0.7,
             "#b8e186"
            ],
            [
             0.8,
             "#7fbc41"
            ],
            [
             0.9,
             "#4d9221"
            ],
            [
             1,
             "#276419"
            ]
           ],
           "sequential": [
            [
             0,
             "#0d0887"
            ],
            [
             0.1111111111111111,
             "#46039f"
            ],
            [
             0.2222222222222222,
             "#7201a8"
            ],
            [
             0.3333333333333333,
             "#9c179e"
            ],
            [
             0.4444444444444444,
             "#bd3786"
            ],
            [
             0.5555555555555556,
             "#d8576b"
            ],
            [
             0.6666666666666666,
             "#ed7953"
            ],
            [
             0.7777777777777778,
             "#fb9f3a"
            ],
            [
             0.8888888888888888,
             "#fdca26"
            ],
            [
             1,
             "#f0f921"
            ]
           ],
           "sequentialminus": [
            [
             0,
             "#0d0887"
            ],
            [
             0.1111111111111111,
             "#46039f"
            ],
            [
             0.2222222222222222,
             "#7201a8"
            ],
            [
             0.3333333333333333,
             "#9c179e"
            ],
            [
             0.4444444444444444,
             "#bd3786"
            ],
            [
             0.5555555555555556,
             "#d8576b"
            ],
            [
             0.6666666666666666,
             "#ed7953"
            ],
            [
             0.7777777777777778,
             "#fb9f3a"
            ],
            [
             0.8888888888888888,
             "#fdca26"
            ],
            [
             1,
             "#f0f921"
            ]
           ]
          },
          "colorway": [
           "#636efa",
           "#EF553B",
           "#00cc96",
           "#ab63fa",
           "#FFA15A",
           "#19d3f3",
           "#FF6692",
           "#B6E880",
           "#FF97FF",
           "#FECB52"
          ],
          "font": {
           "color": "#2a3f5f"
          },
          "geo": {
           "bgcolor": "white",
           "lakecolor": "white",
           "landcolor": "#E5ECF6",
           "showlakes": true,
           "showland": true,
           "subunitcolor": "white"
          },
          "hoverlabel": {
           "align": "left"
          },
          "hovermode": "closest",
          "mapbox": {
           "style": "light"
          },
          "paper_bgcolor": "white",
          "plot_bgcolor": "#E5ECF6",
          "polar": {
           "angularaxis": {
            "gridcolor": "white",
            "linecolor": "white",
            "ticks": ""
           },
           "bgcolor": "#E5ECF6",
           "radialaxis": {
            "gridcolor": "white",
            "linecolor": "white",
            "ticks": ""
           }
          },
          "scene": {
           "xaxis": {
            "backgroundcolor": "#E5ECF6",
            "gridcolor": "white",
            "gridwidth": 2,
            "linecolor": "white",
            "showbackground": true,
            "ticks": "",
            "zerolinecolor": "white"
           },
           "yaxis": {
            "backgroundcolor": "#E5ECF6",
            "gridcolor": "white",
            "gridwidth": 2,
            "linecolor": "white",
            "showbackground": true,
            "ticks": "",
            "zerolinecolor": "white"
           },
           "zaxis": {
            "backgroundcolor": "#E5ECF6",
            "gridcolor": "white",
            "gridwidth": 2,
            "linecolor": "white",
            "showbackground": true,
            "ticks": "",
            "zerolinecolor": "white"
           }
          },
          "shapedefaults": {
           "line": {
            "color": "#2a3f5f"
           }
          },
          "ternary": {
           "aaxis": {
            "gridcolor": "white",
            "linecolor": "white",
            "ticks": ""
           },
           "baxis": {
            "gridcolor": "white",
            "linecolor": "white",
            "ticks": ""
           },
           "bgcolor": "#E5ECF6",
           "caxis": {
            "gridcolor": "white",
            "linecolor": "white",
            "ticks": ""
           }
          },
          "title": {
           "x": 0.05
          },
          "xaxis": {
           "automargin": true,
           "gridcolor": "white",
           "linecolor": "white",
           "ticks": "",
           "title": {
            "standoff": 15
           },
           "zerolinecolor": "white",
           "zerolinewidth": 2
          },
          "yaxis": {
           "automargin": true,
           "gridcolor": "white",
           "linecolor": "white",
           "ticks": "",
           "title": {
            "standoff": 15
           },
           "zerolinecolor": "white",
           "zerolinewidth": 2
          }
         }
        },
        "width": 800,
        "xaxis": {
         "anchor": "y",
         "domain": [
          0,
          1
         ],
         "title": {
          "text": "month"
         }
        },
        "yaxis": {
         "anchor": "x",
         "domain": [
          0,
          1
         ],
         "title": {
          "text": "num_trips"
         }
        }
       }
      }
     },
     "metadata": {},
     "output_type": "display_data"
    }
   ],
   "source": [
    "px.line(num_trips_df, x='month', y='num_trips', markers=True, width=800, height=600)"
   ]
  },
  {
   "cell_type": "code",
   "execution_count": null,
   "metadata": {},
   "outputs": [],
   "source": []
  }
 ],
 "metadata": {
  "kernelspec": {
   "display_name": ".venv",
   "language": "python",
   "name": "python3"
  },
  "language_info": {
   "codemirror_mode": {
    "name": "ipython",
    "version": 3
   },
   "file_extension": ".py",
   "mimetype": "text/x-python",
   "name": "python",
   "nbconvert_exporter": "python",
   "pygments_lexer": "ipython3",
   "version": "3.9.0"
  },
  "orig_nbformat": 4
 },
 "nbformat": 4,
 "nbformat_minor": 2
}
